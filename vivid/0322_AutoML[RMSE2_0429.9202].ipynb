{
  "cells": [
    {
      "attachments": {},
      "cell_type": "markdown",
      "metadata": {
        "id": "2-DJzJjvO88V"
      },
      "source": [
        "## 1. Library Import"
      ]
    },
    {
      "cell_type": "code",
      "execution_count": 1,
      "metadata": {
        "id": "d-NiCLGs4ZpM"
      },
      "outputs": [],
      "source": [
        "# Visualization\n",
        "import matplotlib.pyplot as plt\n",
        "import matplotlib.font_manager as fm\n",
        "import seaborn as sns\n",
        "import matplotlib.style as style\n",
        "%matplotlib inline\n",
        "\n",
        "# 폰트 경로 설정\n",
        "font_path = './H2PORL.TTF'\n",
        "\n",
        "# 폰트 프로퍼티 설정 및 기본 폰트 변경\n",
        "font_prop = fm.FontProperties(fname=font_path)\n",
        "plt.rcParams['font.family'] = font_prop.get_name()  \n",
        "plt.rcParams['font.family'] = 'Malgun Gothic'  # 시스템에 따라 적절한 폰트로 변경\n",
        "plt.style.use('seaborn-poster')\n",
        "plt.style.use('fivethirtyeight')\n",
        "\n",
        "# Utilities\n",
        "import pandas as pd\n",
        "import numpy as np\n",
        "from tqdm import tqdm\n",
        "import pickle\n",
        "import warnings\n",
        "warnings.filterwarnings('ignore')\n",
        "\n",
        "# Model\n",
        "from sklearn.preprocessing import LabelEncoder\n",
        "from sklearn.model_selection import train_test_split\n",
        "from sklearn.metrics import mean_squared_error\n",
        "from sklearn.ensemble import RandomForestRegressor\n",
        "from sklearn import metrics\n",
        "\n",
        "import eli5\n",
        "from eli5.sklearn import PermutationImportance\n"
      ]
    },
    {
      "attachments": {},
      "cell_type": "markdown",
      "metadata": {
        "id": "OPJvYT0OPAWS"
      },
      "source": [
        "## 2. Data Load"
      ]
    },
    {
      "attachments": {},
      "cell_type": "markdown",
      "metadata": {
        "id": "vvwnwnpNJeR1"
      },
      "source": [
        "#### 2.1. 데이터 로드"
      ]
    },
    {
      "cell_type": "code",
      "execution_count": 2,
      "metadata": {
        "id": "hx6nk3N_4_Tk"
      },
      "outputs": [],
      "source": [
        "# 필요한 데이터를 load 하겠습니다. 경로는 환경에 맞게 지정해주면 됩니다.\n",
        "dt = pd.read_csv('./train.csv')\n",
        "dt_test = pd.read_csv('./test.csv')"
      ]
    },
    {
      "cell_type": "code",
      "execution_count": 3,
      "metadata": {
        "colab": {
          "base_uri": "https://localhost:8080/"
        },
        "id": "O6tWMND66vT8",
        "outputId": "fe0d6379-67e4-4d2e-dbff-6147da37e65a"
      },
      "outputs": [
        {
          "name": "stdout",
          "output_type": "stream",
          "text": [
            "Train data shape :  (1118822, 52) Test data shape :  (9272, 51)\n"
          ]
        }
      ],
      "source": [
        "# Train data와 Test data shape은 아래와 같습니다.\n",
        "print('Train data shape : ', dt.shape, 'Test data shape : ', dt_test.shape)"
      ]
    },
    {
      "cell_type": "code",
      "execution_count": 4,
      "metadata": {
        "colab": {
          "base_uri": "https://localhost:8080/",
          "height": 203
        },
        "id": "RyiVjtA2631-",
        "outputId": "4b5dcecb-b2d2-4f0a-e637-0204716a4e04"
      },
      "outputs": [
        {
          "data": {
            "text/html": [
              "<div>\n",
              "<style scoped>\n",
              "    .dataframe tbody tr th:only-of-type {\n",
              "        vertical-align: middle;\n",
              "    }\n",
              "\n",
              "    .dataframe tbody tr th {\n",
              "        vertical-align: top;\n",
              "    }\n",
              "\n",
              "    .dataframe thead th {\n",
              "        text-align: right;\n",
              "    }\n",
              "</style>\n",
              "<table border=\"1\" class=\"dataframe\">\n",
              "  <thead>\n",
              "    <tr style=\"text-align: right;\">\n",
              "      <th></th>\n",
              "      <th>시군구</th>\n",
              "      <th>번지</th>\n",
              "      <th>본번</th>\n",
              "      <th>부번</th>\n",
              "      <th>아파트명</th>\n",
              "      <th>전용면적(㎡)</th>\n",
              "      <th>계약년월</th>\n",
              "      <th>계약일</th>\n",
              "      <th>층</th>\n",
              "      <th>건축년도</th>\n",
              "      <th>...</th>\n",
              "      <th>건축면적</th>\n",
              "      <th>주차대수</th>\n",
              "      <th>기타/의무/임대/임의=1/2/3/4</th>\n",
              "      <th>단지승인일</th>\n",
              "      <th>사용허가여부</th>\n",
              "      <th>관리비 업로드</th>\n",
              "      <th>좌표X</th>\n",
              "      <th>좌표Y</th>\n",
              "      <th>단지신청일</th>\n",
              "      <th>target</th>\n",
              "    </tr>\n",
              "  </thead>\n",
              "  <tbody>\n",
              "    <tr>\n",
              "      <th>0</th>\n",
              "      <td>서울특별시 강남구 개포동</td>\n",
              "      <td>658-1</td>\n",
              "      <td>658.0</td>\n",
              "      <td>1.0</td>\n",
              "      <td>개포6차우성</td>\n",
              "      <td>79.97</td>\n",
              "      <td>201712</td>\n",
              "      <td>8</td>\n",
              "      <td>3</td>\n",
              "      <td>1987</td>\n",
              "      <td>...</td>\n",
              "      <td>4858.0</td>\n",
              "      <td>262.0</td>\n",
              "      <td>임의</td>\n",
              "      <td>2022-11-17 13:00:29.0</td>\n",
              "      <td>Y</td>\n",
              "      <td>N</td>\n",
              "      <td>127.05721</td>\n",
              "      <td>37.476763</td>\n",
              "      <td>2022-11-17 10:19:06.0</td>\n",
              "      <td>124000</td>\n",
              "    </tr>\n",
              "  </tbody>\n",
              "</table>\n",
              "<p>1 rows × 52 columns</p>\n",
              "</div>"
            ],
            "text/plain": [
              "             시군구     번지     본번   부번    아파트명  전용면적(㎡)    계약년월  계약일  층  건축년도  \\\n",
              "0  서울특별시 강남구 개포동  658-1  658.0  1.0  개포6차우성    79.97  201712    8  3  1987   \n",
              "\n",
              "   ...    건축면적   주차대수 기타/의무/임대/임의=1/2/3/4                  단지승인일 사용허가여부  \\\n",
              "0  ...  4858.0  262.0                  임의  2022-11-17 13:00:29.0      Y   \n",
              "\n",
              "  관리비 업로드        좌표X        좌표Y                  단지신청일  target  \n",
              "0       N  127.05721  37.476763  2022-11-17 10:19:06.0  124000  \n",
              "\n",
              "[1 rows x 52 columns]"
            ]
          },
          "metadata": {},
          "output_type": "display_data"
        },
        {
          "data": {
            "text/html": [
              "<div>\n",
              "<style scoped>\n",
              "    .dataframe tbody tr th:only-of-type {\n",
              "        vertical-align: middle;\n",
              "    }\n",
              "\n",
              "    .dataframe tbody tr th {\n",
              "        vertical-align: top;\n",
              "    }\n",
              "\n",
              "    .dataframe thead th {\n",
              "        text-align: right;\n",
              "    }\n",
              "</style>\n",
              "<table border=\"1\" class=\"dataframe\">\n",
              "  <thead>\n",
              "    <tr style=\"text-align: right;\">\n",
              "      <th></th>\n",
              "      <th>시군구</th>\n",
              "      <th>번지</th>\n",
              "      <th>본번</th>\n",
              "      <th>부번</th>\n",
              "      <th>아파트명</th>\n",
              "      <th>전용면적(㎡)</th>\n",
              "      <th>계약년월</th>\n",
              "      <th>계약일</th>\n",
              "      <th>층</th>\n",
              "      <th>건축년도</th>\n",
              "      <th>...</th>\n",
              "      <th>청소비관리형태</th>\n",
              "      <th>건축면적</th>\n",
              "      <th>주차대수</th>\n",
              "      <th>기타/의무/임대/임의=1/2/3/4</th>\n",
              "      <th>단지승인일</th>\n",
              "      <th>사용허가여부</th>\n",
              "      <th>관리비 업로드</th>\n",
              "      <th>좌표X</th>\n",
              "      <th>좌표Y</th>\n",
              "      <th>단지신청일</th>\n",
              "    </tr>\n",
              "  </thead>\n",
              "  <tbody>\n",
              "    <tr>\n",
              "      <th>0</th>\n",
              "      <td>서울특별시 강남구 개포동</td>\n",
              "      <td>658-1</td>\n",
              "      <td>658.0</td>\n",
              "      <td>1.0</td>\n",
              "      <td>개포6차우성</td>\n",
              "      <td>79.97</td>\n",
              "      <td>202307</td>\n",
              "      <td>26</td>\n",
              "      <td>5</td>\n",
              "      <td>1987</td>\n",
              "      <td>...</td>\n",
              "      <td>직영</td>\n",
              "      <td>4858.0</td>\n",
              "      <td>262.0</td>\n",
              "      <td>임의</td>\n",
              "      <td>2022-11-17 13:00:29.0</td>\n",
              "      <td>Y</td>\n",
              "      <td>N</td>\n",
              "      <td>127.05721</td>\n",
              "      <td>37.476763</td>\n",
              "      <td>2022-11-17 10:19:06.0</td>\n",
              "    </tr>\n",
              "  </tbody>\n",
              "</table>\n",
              "<p>1 rows × 51 columns</p>\n",
              "</div>"
            ],
            "text/plain": [
              "             시군구     번지     본번   부번    아파트명  전용면적(㎡)    계약년월  계약일  층  건축년도  \\\n",
              "0  서울특별시 강남구 개포동  658-1  658.0  1.0  개포6차우성    79.97  202307   26  5  1987   \n",
              "\n",
              "   ... 청소비관리형태    건축면적   주차대수 기타/의무/임대/임의=1/2/3/4                  단지승인일  \\\n",
              "0  ...      직영  4858.0  262.0                  임의  2022-11-17 13:00:29.0   \n",
              "\n",
              "  사용허가여부 관리비 업로드        좌표X        좌표Y                  단지신청일  \n",
              "0      Y       N  127.05721  37.476763  2022-11-17 10:19:06.0  \n",
              "\n",
              "[1 rows x 51 columns]"
            ]
          },
          "metadata": {},
          "output_type": "display_data"
        }
      ],
      "source": [
        "# Train과 Test data를 살펴보겠습니다.\n",
        "display(dt.head(1))\n",
        "display(dt_test.head(1))      # 부동산 실거래가(=Target) column이 제외된 모습입니다."
      ]
    },
    {
      "cell_type": "code",
      "execution_count": 5,
      "metadata": {},
      "outputs": [
        {
          "name": "stdout",
          "output_type": "stream",
          "text": [
            "<class 'pandas.core.frame.DataFrame'>\n",
            "RangeIndex: 1118822 entries, 0 to 1118821\n",
            "Data columns (total 52 columns):\n",
            " #   Column                  Non-Null Count    Dtype  \n",
            "---  ------                  --------------    -----  \n",
            " 0   시군구                     1118822 non-null  object \n",
            " 1   번지                      1118597 non-null  object \n",
            " 2   본번                      1118747 non-null  float64\n",
            " 3   부번                      1118747 non-null  float64\n",
            " 4   아파트명                    1116696 non-null  object \n",
            " 5   전용면적(㎡)                 1118822 non-null  float64\n",
            " 6   계약년월                    1118822 non-null  int64  \n",
            " 7   계약일                     1118822 non-null  int64  \n",
            " 8   층                       1118822 non-null  int64  \n",
            " 9   건축년도                    1118822 non-null  int64  \n",
            " 10  도로명                     1118822 non-null  object \n",
            " 11  해제사유발생일                 5983 non-null     float64\n",
            " 12  등기신청일자                  1118822 non-null  object \n",
            " 13  거래유형                    1118822 non-null  object \n",
            " 14  중개사소재지                  1118822 non-null  object \n",
            " 15  k-단지분류(아파트,주상복합등등)      248131 non-null   object \n",
            " 16  k-전화번호                  248548 non-null   object \n",
            " 17  k-팩스번호                  246080 non-null   object \n",
            " 18  단지소개기존clob              68582 non-null    float64\n",
            " 19  k-세대타입(분양형태)            249259 non-null   object \n",
            " 20  k-관리방식                  249259 non-null   object \n",
            " 21  k-복도유형                  248932 non-null   object \n",
            " 22  k-난방방식                  249259 non-null   object \n",
            " 23  k-전체동수                  248192 non-null   float64\n",
            " 24  k-전체세대수                 249259 non-null   float64\n",
            " 25  k-건설사(시공사)              247764 non-null   object \n",
            " 26  k-시행사                   247568 non-null   object \n",
            " 27  k-사용검사일-사용승인일           249126 non-null   object \n",
            " 28  k-연면적                   249259 non-null   float64\n",
            " 29  k-주거전용면적                249214 non-null   float64\n",
            " 30  k-관리비부과면적               249259 non-null   float64\n",
            " 31  k-전용면적별세대현황(60㎡이하)      249214 non-null   float64\n",
            " 32  k-전용면적별세대현황(60㎡~85㎡이하)  249214 non-null   float64\n",
            " 33  k-85㎡~135㎡이하            249214 non-null   float64\n",
            " 34  k-135㎡초과                327 non-null      float64\n",
            " 35  k-홈페이지                  113175 non-null   object \n",
            " 36  k-등록일자                  10990 non-null    object \n",
            " 37  k-수정일자                  249214 non-null   object \n",
            " 38  고용보험관리번호                205518 non-null   object \n",
            " 39  경비비관리형태                 247834 non-null   object \n",
            " 40  세대전기계약방법                240075 non-null   object \n",
            " 41  청소비관리형태                 247644 non-null   object \n",
            " 42  건축면적                    249108 non-null   float64\n",
            " 43  주차대수                    249108 non-null   float64\n",
            " 44  기타/의무/임대/임의=1/2/3/4     249259 non-null   object \n",
            " 45  단지승인일                   248536 non-null   object \n",
            " 46  사용허가여부                  249259 non-null   object \n",
            " 47  관리비 업로드                 249259 non-null   object \n",
            " 48  좌표X                     249152 non-null   float64\n",
            " 49  좌표Y                     249152 non-null   float64\n",
            " 50  단지신청일                   249197 non-null   object \n",
            " 51  target                  1118822 non-null  int64  \n",
            "dtypes: float64(18), int64(5), object(29)\n",
            "memory usage: 443.9+ MB\n"
          ]
        }
      ],
      "source": [
        "dt.info(verbose = True)"
      ]
    },
    {
      "cell_type": "code",
      "execution_count": 6,
      "metadata": {},
      "outputs": [
        {
          "data": {
            "text/html": [
              "<div>\n",
              "<style scoped>\n",
              "    .dataframe tbody tr th:only-of-type {\n",
              "        vertical-align: middle;\n",
              "    }\n",
              "\n",
              "    .dataframe tbody tr th {\n",
              "        vertical-align: top;\n",
              "    }\n",
              "\n",
              "    .dataframe thead th {\n",
              "        text-align: right;\n",
              "    }\n",
              "</style>\n",
              "<table border=\"1\" class=\"dataframe\">\n",
              "  <thead>\n",
              "    <tr style=\"text-align: right;\">\n",
              "      <th></th>\n",
              "      <th>본번</th>\n",
              "      <th>부번</th>\n",
              "      <th>전용면적(㎡)</th>\n",
              "      <th>계약년월</th>\n",
              "      <th>계약일</th>\n",
              "      <th>층</th>\n",
              "      <th>건축년도</th>\n",
              "      <th>해제사유발생일</th>\n",
              "      <th>단지소개기존clob</th>\n",
              "      <th>k-전체동수</th>\n",
              "      <th>...</th>\n",
              "      <th>k-관리비부과면적</th>\n",
              "      <th>k-전용면적별세대현황(60㎡이하)</th>\n",
              "      <th>k-전용면적별세대현황(60㎡~85㎡이하)</th>\n",
              "      <th>k-85㎡~135㎡이하</th>\n",
              "      <th>k-135㎡초과</th>\n",
              "      <th>건축면적</th>\n",
              "      <th>주차대수</th>\n",
              "      <th>좌표X</th>\n",
              "      <th>좌표Y</th>\n",
              "      <th>target</th>\n",
              "    </tr>\n",
              "  </thead>\n",
              "  <tbody>\n",
              "    <tr>\n",
              "      <th>count</th>\n",
              "      <td>1.118747e+06</td>\n",
              "      <td>1.118747e+06</td>\n",
              "      <td>1.118822e+06</td>\n",
              "      <td>1.118822e+06</td>\n",
              "      <td>1.118822e+06</td>\n",
              "      <td>1.118822e+06</td>\n",
              "      <td>1.118822e+06</td>\n",
              "      <td>5.983000e+03</td>\n",
              "      <td>68582.000000</td>\n",
              "      <td>248192.000000</td>\n",
              "      <td>...</td>\n",
              "      <td>249259.000000</td>\n",
              "      <td>249214.000000</td>\n",
              "      <td>249214.000000</td>\n",
              "      <td>249214.000000</td>\n",
              "      <td>327.0</td>\n",
              "      <td>2.491080e+05</td>\n",
              "      <td>249108.000000</td>\n",
              "      <td>249152.000000</td>\n",
              "      <td>249152.000000</td>\n",
              "      <td>1.118822e+06</td>\n",
              "    </tr>\n",
              "    <tr>\n",
              "      <th>mean</th>\n",
              "      <td>5.649108e+02</td>\n",
              "      <td>5.978885e+00</td>\n",
              "      <td>7.717475e+01</td>\n",
              "      <td>2.014760e+05</td>\n",
              "      <td>1.580656e+01</td>\n",
              "      <td>8.871968e+00</td>\n",
              "      <td>1.998755e+03</td>\n",
              "      <td>2.021057e+07</td>\n",
              "      <td>541.529979</td>\n",
              "      <td>14.798346</td>\n",
              "      <td>...</td>\n",
              "      <td>120726.487549</td>\n",
              "      <td>477.912838</td>\n",
              "      <td>476.713439</td>\n",
              "      <td>167.528470</td>\n",
              "      <td>70.0</td>\n",
              "      <td>1.895070e+05</td>\n",
              "      <td>1063.678778</td>\n",
              "      <td>126.995228</td>\n",
              "      <td>37.545785</td>\n",
              "      <td>5.799153e+04</td>\n",
              "    </tr>\n",
              "    <tr>\n",
              "      <th>std</th>\n",
              "      <td>5.160642e+02</td>\n",
              "      <td>4.668584e+01</td>\n",
              "      <td>2.936423e+01</td>\n",
              "      <td>4.187868e+02</td>\n",
              "      <td>8.721166e+00</td>\n",
              "      <td>5.982584e+00</td>\n",
              "      <td>9.333908e+00</td>\n",
              "      <td>1.060697e+04</td>\n",
              "      <td>751.809853</td>\n",
              "      <td>17.693533</td>\n",
              "      <td>...</td>\n",
              "      <td>129020.276480</td>\n",
              "      <td>759.909400</td>\n",
              "      <td>727.553569</td>\n",
              "      <td>248.928143</td>\n",
              "      <td>0.0</td>\n",
              "      <td>1.729027e+06</td>\n",
              "      <td>1235.437604</td>\n",
              "      <td>0.091045</td>\n",
              "      <td>0.052483</td>\n",
              "      <td>4.642602e+04</td>\n",
              "    </tr>\n",
              "    <tr>\n",
              "      <th>min</th>\n",
              "      <td>0.000000e+00</td>\n",
              "      <td>0.000000e+00</td>\n",
              "      <td>1.002000e+01</td>\n",
              "      <td>2.007010e+05</td>\n",
              "      <td>1.000000e+00</td>\n",
              "      <td>-4.000000e+00</td>\n",
              "      <td>1.961000e+03</td>\n",
              "      <td>2.020022e+07</td>\n",
              "      <td>1.000000</td>\n",
              "      <td>1.000000</td>\n",
              "      <td>...</td>\n",
              "      <td>0.000000</td>\n",
              "      <td>0.000000</td>\n",
              "      <td>0.000000</td>\n",
              "      <td>0.000000</td>\n",
              "      <td>70.0</td>\n",
              "      <td>0.000000e+00</td>\n",
              "      <td>0.000000</td>\n",
              "      <td>126.798318</td>\n",
              "      <td>37.447843</td>\n",
              "      <td>3.500000e+02</td>\n",
              "    </tr>\n",
              "    <tr>\n",
              "      <th>25%</th>\n",
              "      <td>1.760000e+02</td>\n",
              "      <td>0.000000e+00</td>\n",
              "      <td>5.965000e+01</td>\n",
              "      <td>2.011100e+05</td>\n",
              "      <td>8.000000e+00</td>\n",
              "      <td>4.000000e+00</td>\n",
              "      <td>1.992000e+03</td>\n",
              "      <td>2.020082e+07</td>\n",
              "      <td>4.000000</td>\n",
              "      <td>5.000000</td>\n",
              "      <td>...</td>\n",
              "      <td>40735.000000</td>\n",
              "      <td>48.000000</td>\n",
              "      <td>95.000000</td>\n",
              "      <td>0.000000</td>\n",
              "      <td>70.0</td>\n",
              "      <td>0.000000e+00</td>\n",
              "      <td>315.000000</td>\n",
              "      <td>126.913157</td>\n",
              "      <td>37.499201</td>\n",
              "      <td>3.050000e+04</td>\n",
              "    </tr>\n",
              "    <tr>\n",
              "      <th>50%</th>\n",
              "      <td>4.700000e+02</td>\n",
              "      <td>0.000000e+00</td>\n",
              "      <td>8.188000e+01</td>\n",
              "      <td>2.015070e+05</td>\n",
              "      <td>1.600000e+01</td>\n",
              "      <td>8.000000e+00</td>\n",
              "      <td>2.000000e+03</td>\n",
              "      <td>2.021030e+07</td>\n",
              "      <td>174.000000</td>\n",
              "      <td>10.000000</td>\n",
              "      <td>...</td>\n",
              "      <td>78125.000000</td>\n",
              "      <td>225.000000</td>\n",
              "      <td>256.000000</td>\n",
              "      <td>63.000000</td>\n",
              "      <td>70.0</td>\n",
              "      <td>1.710550e+03</td>\n",
              "      <td>683.000000</td>\n",
              "      <td>127.014971</td>\n",
              "      <td>37.544936</td>\n",
              "      <td>4.480000e+04</td>\n",
              "    </tr>\n",
              "    <tr>\n",
              "      <th>75%</th>\n",
              "      <td>7.810000e+02</td>\n",
              "      <td>1.000000e+00</td>\n",
              "      <td>8.496000e+01</td>\n",
              "      <td>2.018040e+05</td>\n",
              "      <td>2.300000e+01</td>\n",
              "      <td>1.200000e+01</td>\n",
              "      <td>2.005000e+03</td>\n",
              "      <td>2.022021e+07</td>\n",
              "      <td>725.000000</td>\n",
              "      <td>17.000000</td>\n",
              "      <td>...</td>\n",
              "      <td>159544.000000</td>\n",
              "      <td>576.000000</td>\n",
              "      <td>582.000000</td>\n",
              "      <td>237.000000</td>\n",
              "      <td>70.0</td>\n",
              "      <td>8.414210e+03</td>\n",
              "      <td>1274.000000</td>\n",
              "      <td>127.059590</td>\n",
              "      <td>37.577117</td>\n",
              "      <td>6.980000e+04</td>\n",
              "    </tr>\n",
              "    <tr>\n",
              "      <th>max</th>\n",
              "      <td>4.974000e+03</td>\n",
              "      <td>2.837000e+03</td>\n",
              "      <td>4.243200e+02</td>\n",
              "      <td>2.023060e+05</td>\n",
              "      <td>3.100000e+01</td>\n",
              "      <td>6.900000e+01</td>\n",
              "      <td>2.023000e+03</td>\n",
              "      <td>2.023093e+07</td>\n",
              "      <td>2888.000000</td>\n",
              "      <td>124.000000</td>\n",
              "      <td>...</td>\n",
              "      <td>969877.000000</td>\n",
              "      <td>4975.000000</td>\n",
              "      <td>5132.000000</td>\n",
              "      <td>1500.000000</td>\n",
              "      <td>70.0</td>\n",
              "      <td>3.159620e+07</td>\n",
              "      <td>12096.000000</td>\n",
              "      <td>127.179998</td>\n",
              "      <td>37.687725</td>\n",
              "      <td>1.450000e+06</td>\n",
              "    </tr>\n",
              "  </tbody>\n",
              "</table>\n",
              "<p>8 rows × 23 columns</p>\n",
              "</div>"
            ],
            "text/plain": [
              "                 본번            부번       전용면적(㎡)          계약년월           계약일  \\\n",
              "count  1.118747e+06  1.118747e+06  1.118822e+06  1.118822e+06  1.118822e+06   \n",
              "mean   5.649108e+02  5.978885e+00  7.717475e+01  2.014760e+05  1.580656e+01   \n",
              "std    5.160642e+02  4.668584e+01  2.936423e+01  4.187868e+02  8.721166e+00   \n",
              "min    0.000000e+00  0.000000e+00  1.002000e+01  2.007010e+05  1.000000e+00   \n",
              "25%    1.760000e+02  0.000000e+00  5.965000e+01  2.011100e+05  8.000000e+00   \n",
              "50%    4.700000e+02  0.000000e+00  8.188000e+01  2.015070e+05  1.600000e+01   \n",
              "75%    7.810000e+02  1.000000e+00  8.496000e+01  2.018040e+05  2.300000e+01   \n",
              "max    4.974000e+03  2.837000e+03  4.243200e+02  2.023060e+05  3.100000e+01   \n",
              "\n",
              "                  층          건축년도       해제사유발생일    단지소개기존clob         k-전체동수  \\\n",
              "count  1.118822e+06  1.118822e+06  5.983000e+03  68582.000000  248192.000000   \n",
              "mean   8.871968e+00  1.998755e+03  2.021057e+07    541.529979      14.798346   \n",
              "std    5.982584e+00  9.333908e+00  1.060697e+04    751.809853      17.693533   \n",
              "min   -4.000000e+00  1.961000e+03  2.020022e+07      1.000000       1.000000   \n",
              "25%    4.000000e+00  1.992000e+03  2.020082e+07      4.000000       5.000000   \n",
              "50%    8.000000e+00  2.000000e+03  2.021030e+07    174.000000      10.000000   \n",
              "75%    1.200000e+01  2.005000e+03  2.022021e+07    725.000000      17.000000   \n",
              "max    6.900000e+01  2.023000e+03  2.023093e+07   2888.000000     124.000000   \n",
              "\n",
              "       ...      k-관리비부과면적  k-전용면적별세대현황(60㎡이하)  k-전용면적별세대현황(60㎡~85㎡이하)  \\\n",
              "count  ...  249259.000000       249214.000000           249214.000000   \n",
              "mean   ...  120726.487549          477.912838              476.713439   \n",
              "std    ...  129020.276480          759.909400              727.553569   \n",
              "min    ...       0.000000            0.000000                0.000000   \n",
              "25%    ...   40735.000000           48.000000               95.000000   \n",
              "50%    ...   78125.000000          225.000000              256.000000   \n",
              "75%    ...  159544.000000          576.000000              582.000000   \n",
              "max    ...  969877.000000         4975.000000             5132.000000   \n",
              "\n",
              "        k-85㎡~135㎡이하  k-135㎡초과          건축면적           주차대수            좌표X  \\\n",
              "count  249214.000000     327.0  2.491080e+05  249108.000000  249152.000000   \n",
              "mean      167.528470      70.0  1.895070e+05    1063.678778     126.995228   \n",
              "std       248.928143       0.0  1.729027e+06    1235.437604       0.091045   \n",
              "min         0.000000      70.0  0.000000e+00       0.000000     126.798318   \n",
              "25%         0.000000      70.0  0.000000e+00     315.000000     126.913157   \n",
              "50%        63.000000      70.0  1.710550e+03     683.000000     127.014971   \n",
              "75%       237.000000      70.0  8.414210e+03    1274.000000     127.059590   \n",
              "max      1500.000000      70.0  3.159620e+07   12096.000000     127.179998   \n",
              "\n",
              "                 좌표Y        target  \n",
              "count  249152.000000  1.118822e+06  \n",
              "mean       37.545785  5.799153e+04  \n",
              "std         0.052483  4.642602e+04  \n",
              "min        37.447843  3.500000e+02  \n",
              "25%        37.499201  3.050000e+04  \n",
              "50%        37.544936  4.480000e+04  \n",
              "75%        37.577117  6.980000e+04  \n",
              "max        37.687725  1.450000e+06  \n",
              "\n",
              "[8 rows x 23 columns]"
            ]
          },
          "execution_count": 6,
          "metadata": {},
          "output_type": "execute_result"
        }
      ],
      "source": [
        "dt.describe()"
      ]
    },
    {
      "cell_type": "code",
      "execution_count": 7,
      "metadata": {},
      "outputs": [
        {
          "data": {
            "text/plain": [
              "k-135㎡초과                  99.97\n",
              "해제사유발생일                   99.47\n",
              "k-등록일자                    99.02\n",
              "단지소개기존clob                93.87\n",
              "k-홈페이지                    89.88\n",
              "고용보험관리번호                  81.63\n",
              "세대전기계약방법                  78.54\n",
              "k-팩스번호                    78.01\n",
              "청소비관리형태                   77.87\n",
              "k-시행사                     77.87\n",
              "k-건설사(시공사)                77.85\n",
              "경비비관리형태                   77.85\n",
              "k-단지분류(아파트,주상복합등등)        77.82\n",
              "k-전체동수                    77.82\n",
              "단지승인일                     77.79\n",
              "k-전화번호                    77.78\n",
              "k-복도유형                    77.75\n",
              "건축면적                      77.73\n",
              "좌표X                       77.73\n",
              "k-수정일자                    77.73\n",
              "좌표Y                       77.73\n",
              "단지신청일                     77.73\n",
              "주차대수                      77.73\n",
              "k-85㎡~135㎡이하              77.73\n",
              "k-전용면적별세대현황(60㎡~85㎡이하)    77.73\n",
              "k-전용면적별세대현황(60㎡이하)        77.73\n",
              "k-사용검사일-사용승인일             77.73\n",
              "k-주거전용면적                  77.73\n",
              "k-관리비부과면적                 77.72\n",
              "기타/의무/임대/임의=1/2/3/4       77.72\n",
              "k-연면적                     77.72\n",
              "사용허가여부                    77.72\n",
              "k-전체세대수                   77.72\n",
              "k-난방방식                    77.72\n",
              "k-세대타입(분양형태)              77.72\n",
              "관리비 업로드                   77.72\n",
              "k-관리방식                    77.72\n",
              "아파트명                       0.19\n",
              "번지                         0.02\n",
              "부번                         0.01\n",
              "본번                         0.01\n",
              "시군구                        0.00\n",
              "중개사소재지                     0.00\n",
              "거래유형                       0.00\n",
              "등기신청일자                     0.00\n",
              "도로명                        0.00\n",
              "건축년도                       0.00\n",
              "층                          0.00\n",
              "계약일                        0.00\n",
              "계약년월                       0.00\n",
              "전용면적(㎡)                    0.00\n",
              "target                     0.00\n",
              "dtype: float64"
            ]
          },
          "execution_count": 7,
          "metadata": {},
          "output_type": "execute_result"
        }
      ],
      "source": [
        "## 결측치 데이터 백분율 계산 후 소수점 두 자리 까지 반올림\n",
        "round(dt.isnull().sum() / dt.shape[0] * 100.00, 2).sort_values(ascending = False)"
      ]
    },
    {
      "cell_type": "code",
      "execution_count": 8,
      "metadata": {},
      "outputs": [
        {
          "data": {
            "image/png": "[encoded data removed]",
            "text/plain": [
              "<Figure size 1800x600 with 1 Axes>"
            ]
          },
          "metadata": {},
          "output_type": "display_data"
        }
      ],
      "source": [
        "null_applicationDF = pd.DataFrame(dt.isnull().sum() *  100 / dt.shape[0]).reset_index()\n",
        "null_applicationDF.columns = ['Column Name', 'Null Values Percentage']\n",
        "fig = plt.figure(figsize = (18,6))\n",
        "ax = sns.pointplot(x=\"Column Name\", y=\"Null Values Percentage\", data = null_applicationDF, color = 'blue')\n",
        "plt.xticks(rotation = 90, fontsize = 15)\n",
        "ax.axhline(70, ls='--', color='red')\n",
        "plt.title(\"Percentage of Missing values in application data\")\n",
        "plt.ylabel(\"Null Values PERCENTAGE\")\n",
        "plt.xlabel(\"COLUMNS\")\n",
        "plt.show()"
      ]
    },
    {
      "attachments": {},
      "cell_type": "markdown",
      "metadata": {
        "id": "KVjw5Cnz24nz"
      },
      "source": [
        "## 3. Data Preprocessing"
      ]
    },
    {
      "attachments": {},
      "cell_type": "markdown",
      "metadata": {
        "id": "X24Y1OIR2_oa"
      },
      "source": [
        "- 모델링 전에 데이터 내 결측치, 이상치 등을 제거하고 범주형과 연속형 변수를 살펴보도록 하겠습니다!\n",
        "- 먼저, 용이한 전처리를 위해 train과 test data를 합친 하나의 데이터로 진행하도록 하겠습니다."
      ]
    },
    {
      "cell_type": "code",
      "execution_count": 9,
      "metadata": {
        "id": "vltXVoeRhZiI"
      },
      "outputs": [],
      "source": [
        "# train/test 구분을 위한 칼럼을 하나 만들어 줍니다.\n",
        "dt['is_test'] = 0\n",
        "dt_test['is_test'] = 1\n",
        "concat = pd.concat([dt, dt_test])     # 하나의 데이터로 만들어줍니다."
      ]
    },
    {
      "cell_type": "code",
      "execution_count": 10,
      "metadata": {
        "colab": {
          "base_uri": "https://localhost:8080/"
        },
        "id": "e-iZAY9WxQLK",
        "outputId": "a0ed4336-68a0-49e3-d758-82705471ed0d"
      },
      "outputs": [
        {
          "data": {
            "text/plain": [
              "0    1118822\n",
              "1       9272\n",
              "Name: is_test, dtype: int64"
            ]
          },
          "execution_count": 10,
          "metadata": {},
          "output_type": "execute_result"
        }
      ],
      "source": [
        "concat['is_test'].value_counts()      # train과 test data가 하나로 합쳐진 것을 확인할 수 있습니다."
      ]
    },
    {
      "cell_type": "code",
      "execution_count": 11,
      "metadata": {
        "id": "ZTc6lhBhOAhu"
      },
      "outputs": [],
      "source": [
        "# 칼럼 이름을 쉽게 바꿔주겠습니다. 다른 칼럼도 사용에 따라 바꿔주셔도 됩니다!\n",
        "concat = concat.rename(columns={'전용면적(㎡)':'전용면적'})"
      ]
    },
    {
      "cell_type": "code",
      "execution_count": 12,
      "metadata": {},
      "outputs": [],
      "source": [
        "# 칼럼 개수에 따른 그래프 그리기 함수\n",
        "def plot_value_counts(data, column_name, figsize=(10, 8), title='Value Counts'):\n",
        "    # 값 개수 세기\n",
        "    value_counts = data[column_name].value_counts()\n",
        "    \n",
        "    # 시각화\n",
        "    plt.figure(figsize=figsize)\n",
        "    sns.barplot(x=value_counts, y=value_counts.index)\n",
        "    plt.title(title)\n",
        "    plt.xlabel('Counts')\n",
        "    plt.ylabel(column_name)\n",
        "    \n",
        "    plt.show()"
      ]
    },
    {
      "cell_type": "code",
      "execution_count": 13,
      "metadata": {
        "colab": {
          "base_uri": "https://localhost:8080/",
          "height": 225
        },
        "id": "MEHdKgjWZ8lz",
        "outputId": "73f5a0b8-136a-47b1-e77e-8056f92186a0"
      },
      "outputs": [
        {
          "data": {
            "text/plain": [
              "            1111271\n",
              "20230630        585\n",
              "20230831        496\n",
              "20230428        394\n",
              "20230731        374\n",
              "20230530        367\n",
              "20230728        357\n",
              "20230915        326\n",
              "20230830        310\n",
              "20230531        305\n",
              "20230825        244\n",
              "20230526        231\n",
              "20230828        209\n",
              "20230920        208\n",
              "20230331        200\n",
              "20230714        200\n",
              "20230908        198\n",
              "20230818        197\n",
              "20230519        191\n",
              "20230727        187\n",
              "20230810        180\n",
              "20230720        172\n",
              "20230901        171\n",
              "20230710        169\n",
              "20230525        168\n",
              "20230814        164\n",
              "20230602        153\n",
              "20230811        153\n",
              "20230615        153\n",
              "20230502        148\n",
              "20230609        148\n",
              "20230725        146\n",
              "20230904        144\n",
              "20230620        139\n",
              "20230707        139\n",
              "20230427        138\n",
              "20230816        138\n",
              "20230821        132\n",
              "20230918        131\n",
              "20230914        131\n",
              "20230512        125\n",
              "20230721        125\n",
              "20230605        125\n",
              "20230726        124\n",
              "20230703        124\n",
              "20230824        123\n",
              "20230817        123\n",
              "20230616        122\n",
              "20230629        121\n",
              "20230911        119\n",
              "20230626        118\n",
              "20230414        117\n",
              "20230623        115\n",
              "20230913        114\n",
              "20230510        114\n",
              "20230628        113\n",
              "20230330        112\n",
              "20230905        111\n",
              "20230522        109\n",
              "20230717        108\n",
              "20230724        106\n",
              "20230504        104\n",
              "20230515        102\n",
              "20230607        101\n",
              "20230807        101\n",
              "20230612         97\n",
              "20230627         95\n",
              "20230907         94\n",
              "20230705         92\n",
              "20230608         92\n",
              "20230410         91\n",
              "20230503         91\n",
              "20230829         90\n",
              "20230228         90\n",
              "20230420         88\n",
              "20230518         85\n",
              "20230912         83\n",
              "20230921         83\n",
              "20230421         82\n",
              "20230403         81\n",
              "20230801         80\n",
              "20230706         80\n",
              "20230310         79\n",
              "20230322         79\n",
              "20230407         78\n",
              "20230919         77\n",
              "20230508         74\n",
              "20230524         73\n",
              "20230517         73\n",
              "20230906         73\n",
              "20230516         73\n",
              "20230822         72\n",
              "20230808         71\n",
              "20230621         71\n",
              "20230425         70\n",
              "20230426         70\n",
              "20230417         70\n",
              "20230718         70\n",
              "20230324         68\n",
              "20230719         68\n",
              "20230823         66\n",
              "20230622         66\n",
              "20230320         64\n",
              "20230713         64\n",
              "20230509         64\n",
              "20230809         63\n",
              "20230614         63\n",
              "20230804         63\n",
              "20230619         62\n",
              "20230803         60\n",
              "20230511         57\n",
              "20230712         57\n",
              "20230704         56\n",
              "20230523         56\n",
              "20230711         54\n",
              "20230323         52\n",
              "20230419         52\n",
              "20230613         50\n",
              "20230317         50\n",
              "20230424         50\n",
              "20230315         49\n",
              "20230922         48\n",
              "20230329         48\n",
              "20230802         48\n",
              "20230405         48\n",
              "20230411         46\n",
              "20230227         45\n",
              "20230412         44\n",
              "20230224         44\n",
              "20230418         44\n",
              "20230413         43\n",
              "20230327         41\n",
              "20230328         41\n",
              "20230406         39\n",
              "20230303         36\n",
              "20230601         35\n",
              "20230302         31\n",
              "20230210         30\n",
              "20230404         30\n",
              "20230217         30\n",
              "20230307         29\n",
              "20230306         28\n",
              "20230118         26\n",
              "20230220         26\n",
              "20230316         26\n",
              "20230321         26\n",
              "20230221         25\n",
              "20230308         25\n",
              "20230131         25\n",
              "20230222         21\n",
              "20230314         20\n",
              "20230309         19\n",
              "20230215         18\n",
              "20230313         18\n",
              "20230216         17\n",
              "20230501         16\n",
              "20230202         14\n",
              "20230223         14\n",
              "20230213         14\n",
              "20230130         13\n",
              "20230119         11\n",
              "20230120         11\n",
              "20230206         11\n",
              "20230207         10\n",
              "20230201         10\n",
              "20230203         10\n",
              "20230209          9\n",
              "20230214          8\n",
              "20230127          8\n",
              "20230126          8\n",
              "20230208          6\n",
              "20230117          6\n",
              "20230113          5\n",
              "20230116          5\n",
              "20230111          5\n",
              "20230112          4\n",
              "20230110          3\n",
              "20230105          3\n",
              "20230125          3\n",
              "20230109          1\n",
              "20230102          1\n",
              "20230104          1\n",
              "Name: 등기신청일자, dtype: int64"
            ]
          },
          "execution_count": 13,
          "metadata": {},
          "output_type": "execute_result"
        }
      ],
      "source": [
        "# 실제로 결측치라고 표시는 안되어있지만 아무 의미도 갖지 않는 element들이 아래와 같이 존재합니다.\n",
        "# 아래 3가지의 경우 모두 아무 의미도 갖지 않는 element가 포함되어 있습니다.\n",
        "pd.set_option('display.max_rows', None)\n",
        "concat['등기신청일자'].value_counts()"
      ]
    },
    {
      "cell_type": "code",
      "execution_count": 14,
      "metadata": {},
      "outputs": [],
      "source": [
        "#등기신청일자 월별로만 보기\n",
        "concat['등기신청일자'] = concat['등기신청일자'].astype(str)\n",
        "\n",
        "#연도와 월을 추출하여 새로운 컬럼에 저장\n",
        "concat['등기신청일자'] = concat['등기신청일자'].str.slice(0, 6)\n"
      ]
    },
    {
      "cell_type": "code",
      "execution_count": 15,
      "metadata": {},
      "outputs": [
        {
          "data": {
            "text/plain": [
              "          1111271\n",
              "202308       3183\n",
              "202307       2872\n",
              "202305       2626\n",
              "202306       2624\n",
              "202309       2111\n",
              "202304       1675\n",
              "202303       1141\n",
              "202302        452\n",
              "202301        139\n",
              "Name: 등기신청일자, dtype: int64"
            ]
          },
          "metadata": {},
          "output_type": "display_data"
        }
      ],
      "source": [
        "display(concat['등기신청일자'].value_counts())"
      ]
    },
    {
      "cell_type": "code",
      "execution_count": 16,
      "metadata": {
        "colab": {
          "base_uri": "https://localhost:8080/",
          "height": 86
        },
        "id": "OmquYhmsaZhS",
        "outputId": "f490e8d5-346d-4755-8356-1d80b92929da"
      },
      "outputs": [
        {
          "data": {
            "text/plain": [
              "-       1086451\n",
              "중개거래      38123\n",
              "직거래        3520\n",
              "Name: 거래유형, dtype: int64"
            ]
          },
          "metadata": {},
          "output_type": "display_data"
        }
      ],
      "source": [
        "display(concat['거래유형'].value_counts())"
      ]
    },
    {
      "cell_type": "code",
      "execution_count": 17,
      "metadata": {},
      "outputs": [],
      "source": [
        "# '중개사소재지' 컬럼에서 쉼표(,)가 있는 경우 '전'으로 변경\n",
        "concat['중개사소재지'] = concat['중개사소재지'].apply(lambda x: x.split(',')[0])"
      ]
    },
    {
      "cell_type": "code",
      "execution_count": 18,
      "metadata": {
        "colab": {
          "base_uri": "https://localhost:8080/",
          "height": 225
        },
        "id": "kDezmZgQaaXT",
        "outputId": "4a1adf81-b24c-48a5-c72d-20dc774aab58"
      },
      "outputs": [
        {
          "data": {
            "text/plain": [
              "-             1090013\n",
              "서울 강남구           3023\n",
              "서울 노원구           2830\n",
              "서울 송파구           2590\n",
              "서울 강동구           2223\n",
              "서울 강서구           1916\n",
              "서울 서초구           1860\n",
              "서울 마포구           1753\n",
              "서울 성북구           1753\n",
              "서울 구로구           1750\n",
              "서울 동대문구          1726\n",
              "서울 영등포구          1724\n",
              "서울 양천구           1566\n",
              "서울 성동구           1520\n",
              "서울 은평구           1443\n",
              "서울 동작구           1344\n",
              "서울 서대문구          1333\n",
              "서울 도봉구           1286\n",
              "서울 관악구           1146\n",
              "서울 중랑구            936\n",
              "서울 광진구            767\n",
              "서울 강북구            721\n",
              "서울 금천구            609\n",
              "서울 용산구            583\n",
              "서울 중구             479\n",
              "서울 종로구            334\n",
              "경기 하남시            107\n",
              "경기 성남수정구           67\n",
              "경기 광명시             64\n",
              "경기 부천시             60\n",
              "경기 성남분당구           56\n",
              "경기 남양주시            53\n",
              "경기 고양덕양구           44\n",
              "경기 의정부시            29\n",
              "경기 용인수지구           23\n",
              "경기 안양동안구           21\n",
              "경기 화성시             21\n",
              "경기 수원영통구           20\n",
              "경기 구리시             17\n",
              "경기 의왕시             16\n",
              "경기 성남중원구           15\n",
              "경기 김포시             15\n",
              "인천 서구              14\n",
              "경기 시흥시             13\n",
              "경기 안양만안구           13\n",
              "경기 고양일산서구          13\n",
              "경기 고양일산동구          11\n",
              "경기 과천시             11\n",
              "경기 파주시             10\n",
              "경기 평택시              9\n",
              "경기 수원권선구            9\n",
              "경기 용인기흥구            8\n",
              "경기 양주시              8\n",
              "경기 광주시              8\n",
              "대구 수성구              7\n",
              "경기 수원팔달구            7\n",
              "세종시                 6\n",
              "인천 부평구              5\n",
              "인천 연수구              5\n",
              "경기 안산상록구            5\n",
              "경기 안산단원구            5\n",
              "부산 해운대구             4\n",
              "인천 남동구              3\n",
              "경기 군포시              3\n",
              "경남 김해시              3\n",
              "경기 동두천시             3\n",
              "인천 계양구              3\n",
              "경기 안성시              3\n",
              "광주 서구               2\n",
              "경기 이천시              2\n",
              "부산 남구               2\n",
              "부산 연제구              2\n",
              "경북 구미시              2\n",
              "경남 진주시              2\n",
              "경북 포항남구             2\n",
              "부산 사하구              2\n",
              "대구 동구               2\n",
              "대전 동구               2\n",
              "경기 수원장안구            2\n",
              "인천 미추홀구             1\n",
              "경기 양평군              1\n",
              "경기 포천시              1\n",
              "부산 기장군              1\n",
              "대전 유성구              1\n",
              "경북 문경시              1\n",
              "제주 제주시              1\n",
              "경북 포항북구             1\n",
              "광주 동구               1\n",
              "부산 동래구              1\n",
              "경기 용인처인구            1\n",
              "전북 익산시              1\n",
              "부산 금정구              1\n",
              "부산 강서구              1\n",
              "인천 강화군              1\n",
              "부산 수영구              1\n",
              "광주 남구               1\n",
              "경남 창원마산합포구          1\n",
              "경기 연천군              1\n",
              "경북 김천시              1\n",
              "전남 순천시              1\n",
              "경남 창원성산구            1\n",
              "부산 부산진구             1\n",
              "대구 중구               1\n",
              "대전 서구               1\n",
              "대구 달성군              1\n",
              "경남 창원의창구            1\n",
              "Name: 중개사소재지, dtype: int64"
            ]
          },
          "metadata": {},
          "output_type": "display_data"
        }
      ],
      "source": [
        "display(concat['중개사소재지'].value_counts())"
      ]
    },
    {
      "cell_type": "code",
      "execution_count": 19,
      "metadata": {
        "id": "PSC14w1WZ-5I"
      },
      "outputs": [],
      "source": [
        "# 위 처럼 아무 의미도 갖지 않는 칼럼은 결측치와 같은 역할을 하므로, np.nan으로 채워 결측치로 인식되도록 합니다.\n",
        "concat['등기신청일자'] = concat['등기신청일자'].replace(' ', np.nan)\n",
        "concat['거래유형'] = concat['거래유형'].replace('-', np.nan)\n",
        "concat['중개사소재지'] = concat['중개사소재지'].replace('-', np.nan)"
      ]
    },
    {
      "cell_type": "code",
      "execution_count": 20,
      "metadata": {
        "colab": {
          "base_uri": "https://localhost:8080/"
        },
        "id": "msOiDlOPQ8hS",
        "outputId": "45d5491e-dabe-461b-cddc-dccfa78315ab"
      },
      "outputs": [
        {
          "data": {
            "text/plain": [
              "시군구                             0\n",
              "번지                            227\n",
              "본번                             75\n",
              "부번                             75\n",
              "아파트명                         2136\n",
              "전용면적                            0\n",
              "계약년월                            0\n",
              "계약일                             0\n",
              "층                               0\n",
              "건축년도                            0\n",
              "도로명                             0\n",
              "해제사유발생일                   1121899\n",
              "등기신청일자                    1111271\n",
              "거래유형                      1086451\n",
              "중개사소재지                    1090013\n",
              "k-단지분류(아파트,주상복합등등)         877273\n",
              "k-전화번호                     876850\n",
              "k-팩스번호                     879348\n",
              "단지소개기존clob                1058958\n",
              "k-세대타입(분양형태)               876125\n",
              "k-관리방식                     876125\n",
              "k-복도유형                     876454\n",
              "k-난방방식                     876125\n",
              "k-전체동수                     877207\n",
              "k-전체세대수                    876125\n",
              "k-건설사(시공사)                 877637\n",
              "k-시행사                      877834\n",
              "k-사용검사일-사용승인일              876259\n",
              "k-연면적                      876125\n",
              "k-주거전용면적                   876170\n",
              "k-관리비부과면적                  876125\n",
              "k-전용면적별세대현황(60㎡이하)         876170\n",
              "k-전용면적별세대현황(60㎡~85㎡이하)     876170\n",
              "k-85㎡~135㎡이하               876170\n",
              "k-135㎡초과                  1127765\n",
              "k-홈페이지                    1013523\n",
              "k-등록일자                    1116386\n",
              "k-수정일자                     876170\n",
              "고용보험관리번호                   920757\n",
              "경비비관리형태                    877561\n",
              "세대전기계약방법                   885389\n",
              "청소비관리형태                    877751\n",
              "건축면적                       876279\n",
              "주차대수                       876277\n",
              "기타/의무/임대/임의=1/2/3/4        876125\n",
              "단지승인일                      876854\n",
              "사용허가여부                     876125\n",
              "관리비 업로드                    876125\n",
              "좌표X                        876232\n",
              "좌표Y                        876232\n",
              "단지신청일                      876187\n",
              "target                       9272\n",
              "is_test                         0\n",
              "dtype: int64"
            ]
          },
          "execution_count": 20,
          "metadata": {},
          "output_type": "execute_result"
        }
      ],
      "source": [
        "# EDA에 앞서 결측치를 확인해보겠습니다.\n",
        "concat.isnull().sum()"
      ]
    },
    {
      "cell_type": "code",
      "execution_count": 21,
      "metadata": {
        "colab": {
          "base_uri": "https://localhost:8080/",
          "height": 456
        },
        "id": "WcJKURyma8MS",
        "outputId": "60e00cfa-3c6b-4153-f3a8-217b2b8b5852"
      },
      "outputs": [
        {
          "data": {
            "image/png": "[encoded data removed]",
            "text/plain": [
              "<Figure size 1300x200 with 1 Axes>"
            ]
          },
          "metadata": {},
          "output_type": "display_data"
        }
      ],
      "source": [
        "# 변수별 결측치의 비율을 plot으로 그려보면 아래와 같습니다.\n",
        "fig = plt.figure(figsize=(13, 2))\n",
        "missing = concat.isnull().sum() / concat.shape[0]\n",
        "missing = missing[missing > 0]\n",
        "missing.sort_values(inplace=True)\n",
        "missing.plot.bar(color='orange')\n",
        "plt.title('변수별 결측치 비율')\n",
        "plt.show()"
      ]
    },
    {
      "attachments": {},
      "cell_type": "markdown",
      "metadata": {
        "id": "yLNXVw1dysm-"
      },
      "source": [
        "- 위 그래프에서 볼 수 있다시피 결측치가 100만개 이상인 칼럼들은 결측치가 해당 칼럼의 element 중 90% 이상을 차지하는 상황이 됩니다.\n",
        "- 따라서 본 Baseline 에서는 이 칼럼은 예측에 도움이 되지 않는다고 판단해 삭제해주도록 하겠습니다."
      ]
    },
    {
      "cell_type": "code",
      "execution_count": 22,
      "metadata": {
        "colab": {
          "base_uri": "https://localhost:8080/"
        },
        "id": "41uYYfXhTWYB",
        "outputId": "1e64e1f7-71ce-4297-830b-495616f5fb43"
      },
      "outputs": [
        {
          "name": "stdout",
          "output_type": "stream",
          "text": [
            "* 결측치가 100만개 이하인 변수들 : ['시군구', '번지', '본번', '부번', '아파트명', '전용면적', '계약년월', '계약일', '층', '건축년도', '도로명', 'k-단지분류(아파트,주상복합등등)', 'k-전화번호', 'k-팩스번호', 'k-세대타입(분양형태)', 'k-관리방식', 'k-복도유형', 'k-난방방식', 'k-전체동수', 'k-전체세대수', 'k-건설사(시공사)', 'k-시행사', 'k-사용검사일-사용승인일', 'k-연면적', 'k-주거전용면적', 'k-관리비부과면적', 'k-전용면적별세대현황(60㎡이하)', 'k-전용면적별세대현황(60㎡~85㎡이하)', 'k-85㎡~135㎡이하', 'k-수정일자', '고용보험관리번호', '경비비관리형태', '세대전기계약방법', '청소비관리형태', '건축면적', '주차대수', '기타/의무/임대/임의=1/2/3/4', '단지승인일', '사용허가여부', '관리비 업로드', '좌표X', '좌표Y', '단지신청일', 'target', 'is_test']\n",
            "* 결측치가 100만개 이상인 변수들 : ['해제사유발생일', '등기신청일자', '거래유형', '중개사소재지', '단지소개기존clob', 'k-135㎡초과', 'k-홈페이지', 'k-등록일자']\n"
          ]
        }
      ],
      "source": [
        "# Null값이 100만개 이상인 칼럼은 삭제해보도록 하겠습니다.\n",
        "\n",
        "print('* 결측치가 100만개 이하인 변수들 :', list(concat.columns[concat.isnull().sum() <= 1000000]))     # 남겨질 변수들은 아래와 같습니다.\n",
        "print('* 결측치가 100만개 이상인 변수들 :', list(concat.columns[concat.isnull().sum() >= 1000000]))"
      ]
    },
    {
      "cell_type": "code",
      "execution_count": 23,
      "metadata": {
        "id": "EEHMudvTUcRR"
      },
      "outputs": [],
      "source": [
        "# 위에서 결측치가 100만개 이하인 변수들만 골라 새로운 concat_select 객체로 저장해줍니다.\n",
        "selected = list(concat.columns[concat.isnull().sum() <= 1000000])\n",
        "concat_select = concat[selected]"
      ]
    },
    {
      "cell_type": "code",
      "execution_count": 24,
      "metadata": {
        "colab": {
          "base_uri": "https://localhost:8080/"
        },
        "id": "vl9fful0oTug",
        "outputId": "79bd03d2-cd85-4ca9-d1a8-80d37684529e"
      },
      "outputs": [
        {
          "data": {
            "text/plain": [
              "((1128094, 53), (1128094, 45))"
            ]
          },
          "execution_count": 24,
          "metadata": {},
          "output_type": "execute_result"
        }
      ],
      "source": [
        "concat.shape, concat_select.shape"
      ]
    },
    {
      "cell_type": "code",
      "execution_count": 25,
      "metadata": {
        "colab": {
          "base_uri": "https://localhost:8080/"
        },
        "id": "cOvWhZncQrO_",
        "outputId": "d5d88f94-6646-4d25-89f7-3b44699b7373"
      },
      "outputs": [
        {
          "data": {
            "text/plain": [
              "시군구                            0\n",
              "번지                           227\n",
              "본번                            75\n",
              "부번                            75\n",
              "아파트명                        2136\n",
              "전용면적                           0\n",
              "계약년월                           0\n",
              "계약일                            0\n",
              "층                              0\n",
              "건축년도                           0\n",
              "도로명                            0\n",
              "k-단지분류(아파트,주상복합등등)        877273\n",
              "k-전화번호                    876850\n",
              "k-팩스번호                    879348\n",
              "k-세대타입(분양형태)              876125\n",
              "k-관리방식                    876125\n",
              "k-복도유형                    876454\n",
              "k-난방방식                    876125\n",
              "k-전체동수                    877207\n",
              "k-전체세대수                   876125\n",
              "k-건설사(시공사)                877637\n",
              "k-시행사                     877834\n",
              "k-사용검사일-사용승인일             876259\n",
              "k-연면적                     876125\n",
              "k-주거전용면적                  876170\n",
              "k-관리비부과면적                 876125\n",
              "k-전용면적별세대현황(60㎡이하)        876170\n",
              "k-전용면적별세대현황(60㎡~85㎡이하)    876170\n",
              "k-85㎡~135㎡이하              876170\n",
              "k-수정일자                    876170\n",
              "고용보험관리번호                  920757\n",
              "경비비관리형태                   877561\n",
              "세대전기계약방법                  885389\n",
              "청소비관리형태                   877751\n",
              "건축면적                      876279\n",
              "주차대수                      876277\n",
              "기타/의무/임대/임의=1/2/3/4       876125\n",
              "단지승인일                     876854\n",
              "사용허가여부                    876125\n",
              "관리비 업로드                   876125\n",
              "좌표X                       876232\n",
              "좌표Y                       876232\n",
              "단지신청일                     876187\n",
              "target                      9272\n",
              "is_test                        0\n",
              "dtype: int64"
            ]
          },
          "execution_count": 25,
          "metadata": {},
          "output_type": "execute_result"
        }
      ],
      "source": [
        "concat_select.isnull().sum()     # 결측치가 100만개 초과인 칼럼이 제거된 모습은 아래와 같습니다.\n",
        "\n",
        "# target변수는 test dataset 개수만큼(9272) 결측치가 존재함을 확인할 수 있습니다."
      ]
    },
    {
      "cell_type": "code",
      "execution_count": 26,
      "metadata": {
        "colab": {
          "base_uri": "https://localhost:8080/"
        },
        "id": "OAtKbkR3zTtR",
        "outputId": "0aa4255b-b02f-47db-99e9-d3d8bd929957"
      },
      "outputs": [
        {
          "name": "stdout",
          "output_type": "stream",
          "text": [
            "<class 'pandas.core.frame.DataFrame'>\n",
            "Int64Index: 1128094 entries, 0 to 9271\n",
            "Data columns (total 45 columns):\n",
            " #   Column                  Non-Null Count    Dtype  \n",
            "---  ------                  --------------    -----  \n",
            " 0   시군구                     1128094 non-null  object \n",
            " 1   번지                      1127867 non-null  object \n",
            " 2   본번                      1128019 non-null  float64\n",
            " 3   부번                      1128019 non-null  float64\n",
            " 4   아파트명                    1125958 non-null  object \n",
            " 5   전용면적                    1128094 non-null  float64\n",
            " 6   계약년월                    1128094 non-null  int64  \n",
            " 7   계약일                     1128094 non-null  int64  \n",
            " 8   층                       1128094 non-null  int64  \n",
            " 9   건축년도                    1128094 non-null  int64  \n",
            " 10  도로명                     1128094 non-null  object \n",
            " 11  k-단지분류(아파트,주상복합등등)      250821 non-null   object \n",
            " 12  k-전화번호                  251244 non-null   object \n",
            " 13  k-팩스번호                  248746 non-null   object \n",
            " 14  k-세대타입(분양형태)            251969 non-null   object \n",
            " 15  k-관리방식                  251969 non-null   object \n",
            " 16  k-복도유형                  251640 non-null   object \n",
            " 17  k-난방방식                  251969 non-null   object \n",
            " 18  k-전체동수                  250887 non-null   float64\n",
            " 19  k-전체세대수                 251969 non-null   float64\n",
            " 20  k-건설사(시공사)              250457 non-null   object \n",
            " 21  k-시행사                   250260 non-null   object \n",
            " 22  k-사용검사일-사용승인일           251835 non-null   object \n",
            " 23  k-연면적                   251969 non-null   float64\n",
            " 24  k-주거전용면적                251924 non-null   float64\n",
            " 25  k-관리비부과면적               251969 non-null   float64\n",
            " 26  k-전용면적별세대현황(60㎡이하)      251924 non-null   float64\n",
            " 27  k-전용면적별세대현황(60㎡~85㎡이하)  251924 non-null   float64\n",
            " 28  k-85㎡~135㎡이하            251924 non-null   float64\n",
            " 29  k-수정일자                  251924 non-null   object \n",
            " 30  고용보험관리번호                207337 non-null   object \n",
            " 31  경비비관리형태                 250533 non-null   object \n",
            " 32  세대전기계약방법                242705 non-null   object \n",
            " 33  청소비관리형태                 250343 non-null   object \n",
            " 34  건축면적                    251815 non-null   float64\n",
            " 35  주차대수                    251817 non-null   float64\n",
            " 36  기타/의무/임대/임의=1/2/3/4     251969 non-null   object \n",
            " 37  단지승인일                   251240 non-null   object \n",
            " 38  사용허가여부                  251969 non-null   object \n",
            " 39  관리비 업로드                 251969 non-null   object \n",
            " 40  좌표X                     251862 non-null   float64\n",
            " 41  좌표Y                     251862 non-null   float64\n",
            " 42  단지신청일                   251907 non-null   object \n",
            " 43  target                  1118822 non-null  float64\n",
            " 44  is_test                 1128094 non-null  int64  \n",
            "dtypes: float64(16), int64(5), object(24)\n",
            "memory usage: 395.9+ MB\n"
          ]
        }
      ],
      "source": [
        "# 연속형 변수는 선형보간을 해주고, 범주형변수는 알수없기에 \"unknown\"이라고 임의로 보간해 주겠습니다.\n",
        "\n",
        "concat_select.info()"
      ]
    },
    {
      "cell_type": "code",
      "execution_count": 27,
      "metadata": {
        "id": "-qTUlvcP42in"
      },
      "outputs": [],
      "source": [
        "# 본번, 부번의 경우 float로 되어있지만 범주형 변수의 의미를 가지므로 object(string) 형태로 바꾸어주고 아래 작업을 진행하겠습니다.\n",
        "concat_select['본번'] = concat_select['본번'].astype('str')\n",
        "concat_select['부번'] = concat_select['부번'].astype('str')"
      ]
    },
    {
      "cell_type": "code",
      "execution_count": 28,
      "metadata": {
        "colab": {
          "base_uri": "https://localhost:8080/"
        },
        "id": "wVdU-Ge00OGM",
        "outputId": "c702fb58-c5fb-4a1c-c6d5-0408e58ce754"
      },
      "outputs": [
        {
          "name": "stdout",
          "output_type": "stream",
          "text": [
            "연속형 변수: ['전용면적', '계약년월', '계약일', '층', '건축년도', 'k-전체동수', 'k-전체세대수', 'k-연면적', 'k-주거전용면적', 'k-관리비부과면적', 'k-전용면적별세대현황(60㎡이하)', 'k-전용면적별세대현황(60㎡~85㎡이하)', 'k-85㎡~135㎡이하', '건축면적', '주차대수', '좌표X', '좌표Y', 'target', 'is_test']\n",
            "범주형 변수: ['시군구', '번지', '본번', '부번', '아파트명', '도로명', 'k-단지분류(아파트,주상복합등등)', 'k-전화번호', 'k-팩스번호', 'k-세대타입(분양형태)', 'k-관리방식', 'k-복도유형', 'k-난방방식', 'k-건설사(시공사)', 'k-시행사', 'k-사용검사일-사용승인일', 'k-수정일자', '고용보험관리번호', '경비비관리형태', '세대전기계약방법', '청소비관리형태', '기타/의무/임대/임의=1/2/3/4', '단지승인일', '사용허가여부', '관리비 업로드', '단지신청일']\n"
          ]
        }
      ],
      "source": [
        "# 먼저, 연속형 변수와 범주형 변수를 위 info에 따라 분리해주겠습니다.\n",
        "continuous_columns = []\n",
        "categorical_columns = []\n",
        "\n",
        "for column in concat_select.columns:\n",
        "    if pd.api.types.is_numeric_dtype(concat_select[column]):\n",
        "        continuous_columns.append(column)\n",
        "    else:\n",
        "        categorical_columns.append(column)\n",
        "\n",
        "print(\"연속형 변수:\", continuous_columns)\n",
        "print(\"범주형 변수:\", categorical_columns)"
      ]
    },
    {
      "attachments": {},
      "cell_type": "markdown",
      "metadata": {
        "id": "pVtoElzZ5Y_z"
      },
      "source": [
        "- 연속형 변수와 범주형 변수가 알맞게 나누어졌는지 확인해보고, 이제 각각 보간을 진행합니다."
      ]
    },
    {
      "cell_type": "code",
      "execution_count": 29,
      "metadata": {
        "id": "lD30SqJt5TWw"
      },
      "outputs": [],
      "source": [
        "# 범주형 변수에 대한 보간\n",
        "concat_select[categorical_columns] = concat_select[categorical_columns].fillna('NULL')"
      ]
    },
    {
      "cell_type": "code",
      "execution_count": 30,
      "metadata": {},
      "outputs": [
        {
          "data": {
            "text/plain": [
              "시군구                            0\n",
              "번지                             0\n",
              "본번                             0\n",
              "부번                             0\n",
              "아파트명                           0\n",
              "전용면적                           0\n",
              "계약년월                           0\n",
              "계약일                            0\n",
              "층                              0\n",
              "건축년도                           0\n",
              "도로명                            0\n",
              "k-단지분류(아파트,주상복합등등)             0\n",
              "k-전화번호                         0\n",
              "k-팩스번호                         0\n",
              "k-세대타입(분양형태)                   0\n",
              "k-관리방식                         0\n",
              "k-복도유형                         0\n",
              "k-난방방식                         0\n",
              "k-전체동수                    877207\n",
              "k-전체세대수                   876125\n",
              "k-건설사(시공사)                     0\n",
              "k-시행사                          0\n",
              "k-사용검사일-사용승인일                  0\n",
              "k-연면적                     876125\n",
              "k-주거전용면적                  876170\n",
              "k-관리비부과면적                 876125\n",
              "k-전용면적별세대현황(60㎡이하)        876170\n",
              "k-전용면적별세대현황(60㎡~85㎡이하)    876170\n",
              "k-85㎡~135㎡이하              876170\n",
              "k-수정일자                         0\n",
              "고용보험관리번호                       0\n",
              "경비비관리형태                        0\n",
              "세대전기계약방법                       0\n",
              "청소비관리형태                        0\n",
              "건축면적                      876279\n",
              "주차대수                      876277\n",
              "기타/의무/임대/임의=1/2/3/4            0\n",
              "단지승인일                          0\n",
              "사용허가여부                         0\n",
              "관리비 업로드                        0\n",
              "좌표X                       876232\n",
              "좌표Y                       876232\n",
              "단지신청일                          0\n",
              "target                      9272\n",
              "is_test                        0\n",
              "dtype: int64"
            ]
          },
          "execution_count": 30,
          "metadata": {},
          "output_type": "execute_result"
        }
      ],
      "source": [
        "concat_select.isnull().sum()         # 결측치가 보간된 모습을 확인해봅니다."
      ]
    },
    {
      "cell_type": "code",
      "execution_count": 31,
      "metadata": {},
      "outputs": [],
      "source": [
        "# 수치형 데이터 null값 있는 것들 삭제\n",
        "# target 컬럼을 제외한 나머지 컬럼에서 결측치가 있는 컬럼 찾기\n",
        "cols_with_missing = concat_select.drop(columns=['target']).isnull().sum()\n",
        "\n",
        "# 결측치가 있는 컬럼 이름 추출\n",
        "cols_to_drop = cols_with_missing[cols_with_missing > 0].index\n",
        "\n",
        "# 해당 컬럼 삭제\n",
        "concat_select_cleaned = concat_select.drop(columns=cols_to_drop)\n"
      ]
    },
    {
      "cell_type": "code",
      "execution_count": 32,
      "metadata": {
        "id": "193c8GTdzzOX"
      },
      "outputs": [],
      "source": [
        "# # 연속형 변수에 대한 보간 (선형 보간)\n",
        "# concat_select[continuous_columns] = concat_select[continuous_columns].interpolate(method='linear', axis=0)"
      ]
    },
    {
      "cell_type": "code",
      "execution_count": 33,
      "metadata": {
        "colab": {
          "base_uri": "https://localhost:8080/"
        },
        "id": "tTJHspKl0mhM",
        "outputId": "1597655a-b3b8-43fb-bdc4-3fb810ac6a50"
      },
      "outputs": [
        {
          "data": {
            "text/plain": [
              "시군구                       0\n",
              "번지                        0\n",
              "본번                        0\n",
              "부번                        0\n",
              "아파트명                      0\n",
              "전용면적                      0\n",
              "계약년월                      0\n",
              "계약일                       0\n",
              "층                         0\n",
              "건축년도                      0\n",
              "도로명                       0\n",
              "k-단지분류(아파트,주상복합등등)        0\n",
              "k-전화번호                    0\n",
              "k-팩스번호                    0\n",
              "k-세대타입(분양형태)              0\n",
              "k-관리방식                    0\n",
              "k-복도유형                    0\n",
              "k-난방방식                    0\n",
              "k-건설사(시공사)                0\n",
              "k-시행사                     0\n",
              "k-사용검사일-사용승인일             0\n",
              "k-수정일자                    0\n",
              "고용보험관리번호                  0\n",
              "경비비관리형태                   0\n",
              "세대전기계약방법                  0\n",
              "청소비관리형태                   0\n",
              "기타/의무/임대/임의=1/2/3/4       0\n",
              "단지승인일                     0\n",
              "사용허가여부                    0\n",
              "관리비 업로드                   0\n",
              "단지신청일                     0\n",
              "target                 9272\n",
              "is_test                   0\n",
              "dtype: int64"
            ]
          },
          "execution_count": 33,
          "metadata": {},
          "output_type": "execute_result"
        }
      ],
      "source": [
        "concat_select_cleaned.isnull().sum()         # 결측치가 보간된 모습을 확인해봅니다."
      ]
    },
    {
      "cell_type": "code",
      "execution_count": 34,
      "metadata": {
        "colab": {
          "base_uri": "https://localhost:8080/"
        },
        "id": "t7omvXsd9GP1",
        "outputId": "5eb32249-df19-4b31-a55d-fd458b8582b8"
      },
      "outputs": [
        {
          "name": "stdout",
          "output_type": "stream",
          "text": [
            "(1128094, 33)\n"
          ]
        }
      ],
      "source": [
        "# 이상치 제거 이전의 shape은 아래와 같습니다.\n",
        "print(concat_select_cleaned.shape)"
      ]
    },
    {
      "cell_type": "code",
      "execution_count": 35,
      "metadata": {
        "colab": {
          "base_uri": "https://localhost:8080/"
        },
        "id": "DmYBZUkrAOtS",
        "outputId": "d115cf04-c897-44a5-a389-d425c7d954b8"
      },
      "outputs": [
        {
          "data": {
            "text/plain": [
              "Index(['시군구', '번지', '본번', '부번', '아파트명', '전용면적', '계약년월', '계약일', '층', '건축년도',\n",
              "       '도로명', 'k-단지분류(아파트,주상복합등등)', 'k-전화번호', 'k-팩스번호', 'k-세대타입(분양형태)',\n",
              "       'k-관리방식', 'k-복도유형', 'k-난방방식', 'k-건설사(시공사)', 'k-시행사', 'k-사용검사일-사용승인일',\n",
              "       'k-수정일자', '고용보험관리번호', '경비비관리형태', '세대전기계약방법', '청소비관리형태',\n",
              "       '기타/의무/임대/임의=1/2/3/4', '단지승인일', '사용허가여부', '관리비 업로드', '단지신청일', 'target',\n",
              "       'is_test'],\n",
              "      dtype='object')"
            ]
          },
          "execution_count": 35,
          "metadata": {},
          "output_type": "execute_result"
        }
      ],
      "source": [
        "concat_select_cleaned.columns"
      ]
    },
    {
      "cell_type": "code",
      "execution_count": 36,
      "metadata": {
        "colab": {
          "base_uri": "https://localhost:8080/"
        },
        "id": "c-VGjus86phR",
        "outputId": "a30f56bb-2209-4270-f47c-3352c185a601"
      },
      "outputs": [
        {
          "data": {
            "text/plain": [
              "(1128094, 33)"
            ]
          },
          "execution_count": 36,
          "metadata": {},
          "output_type": "execute_result"
        }
      ],
      "source": [
        "concat_select_cleaned.shape"
      ]
    },
    {
      "attachments": {},
      "cell_type": "markdown",
      "metadata": {
        "id": "uXfXRevr3dfe"
      },
      "source": [
        "## 5. Model Training"
      ]
    },
    {
      "cell_type": "code",
      "execution_count": 37,
      "metadata": {
        "colab": {
          "base_uri": "https://localhost:8080/"
        },
        "id": "9E__0jEyyXIA",
        "outputId": "665d31ae-43ff-440f-b99e-a2801f3aad9f"
      },
      "outputs": [
        {
          "name": "stdout",
          "output_type": "stream",
          "text": [
            "(1118822, 32) (9272, 32)\n"
          ]
        }
      ],
      "source": [
        "# 이제 다시 train과 test dataset을 분할해줍니다. 위에서 제작해 놓았던 is_test 칼럼을 이용합니다.\n",
        "dt_train = concat_select_cleaned.query('is_test==0')\n",
        "dt_test = concat_select_cleaned.query('is_test==1')\n",
        "\n",
        "# 이제 is_test 칼럼은 drop해줍니다.\n",
        "dt_train.drop(['is_test'], axis = 1, inplace=True)\n",
        "dt_test.drop(['is_test'], axis = 1, inplace=True)\n",
        "print(dt_train.shape, dt_test.shape)"
      ]
    },
    {
      "cell_type": "code",
      "execution_count": 38,
      "metadata": {
        "colab": {
          "base_uri": "https://localhost:8080/",
          "height": 110
        },
        "id": "KXv31dP_YMZp",
        "outputId": "afc2dce3-ee59-4f3e-ae9d-1673c9488e75"
      },
      "outputs": [
        {
          "data": {
            "text/html": [
              "<div>\n",
              "<style scoped>\n",
              "    .dataframe tbody tr th:only-of-type {\n",
              "        vertical-align: middle;\n",
              "    }\n",
              "\n",
              "    .dataframe tbody tr th {\n",
              "        vertical-align: top;\n",
              "    }\n",
              "\n",
              "    .dataframe thead th {\n",
              "        text-align: right;\n",
              "    }\n",
              "</style>\n",
              "<table border=\"1\" class=\"dataframe\">\n",
              "  <thead>\n",
              "    <tr style=\"text-align: right;\">\n",
              "      <th></th>\n",
              "      <th>시군구</th>\n",
              "      <th>번지</th>\n",
              "      <th>본번</th>\n",
              "      <th>부번</th>\n",
              "      <th>아파트명</th>\n",
              "      <th>전용면적</th>\n",
              "      <th>계약년월</th>\n",
              "      <th>계약일</th>\n",
              "      <th>층</th>\n",
              "      <th>건축년도</th>\n",
              "      <th>...</th>\n",
              "      <th>고용보험관리번호</th>\n",
              "      <th>경비비관리형태</th>\n",
              "      <th>세대전기계약방법</th>\n",
              "      <th>청소비관리형태</th>\n",
              "      <th>기타/의무/임대/임의=1/2/3/4</th>\n",
              "      <th>단지승인일</th>\n",
              "      <th>사용허가여부</th>\n",
              "      <th>관리비 업로드</th>\n",
              "      <th>단지신청일</th>\n",
              "      <th>target</th>\n",
              "    </tr>\n",
              "  </thead>\n",
              "  <tbody>\n",
              "    <tr>\n",
              "      <th>0</th>\n",
              "      <td>서울특별시 강남구 개포동</td>\n",
              "      <td>658-1</td>\n",
              "      <td>658.0</td>\n",
              "      <td>1.0</td>\n",
              "      <td>개포6차우성</td>\n",
              "      <td>79.97</td>\n",
              "      <td>202307</td>\n",
              "      <td>26</td>\n",
              "      <td>5</td>\n",
              "      <td>1987</td>\n",
              "      <td>...</td>\n",
              "      <td>NULL</td>\n",
              "      <td>직영</td>\n",
              "      <td>단일계약</td>\n",
              "      <td>직영</td>\n",
              "      <td>임의</td>\n",
              "      <td>2022-11-17 13:00:29.0</td>\n",
              "      <td>Y</td>\n",
              "      <td>N</td>\n",
              "      <td>2022-11-17 10:19:06.0</td>\n",
              "      <td>NaN</td>\n",
              "    </tr>\n",
              "  </tbody>\n",
              "</table>\n",
              "<p>1 rows × 32 columns</p>\n",
              "</div>"
            ],
            "text/plain": [
              "             시군구     번지     본번   부번    아파트명   전용면적    계약년월  계약일  층  건축년도  ...  \\\n",
              "0  서울특별시 강남구 개포동  658-1  658.0  1.0  개포6차우성  79.97  202307   26  5  1987  ...   \n",
              "\n",
              "  고용보험관리번호 경비비관리형태 세대전기계약방법 청소비관리형태 기타/의무/임대/임의=1/2/3/4  \\\n",
              "0     NULL      직영     단일계약      직영                  임의   \n",
              "\n",
              "                   단지승인일 사용허가여부 관리비 업로드                  단지신청일 target  \n",
              "0  2022-11-17 13:00:29.0      Y       N  2022-11-17 10:19:06.0    NaN  \n",
              "\n",
              "[1 rows x 32 columns]"
            ]
          },
          "execution_count": 38,
          "metadata": {},
          "output_type": "execute_result"
        }
      ],
      "source": [
        "dt_test.head(1)"
      ]
    },
    {
      "cell_type": "code",
      "execution_count": 39,
      "metadata": {
        "colab": {
          "base_uri": "https://localhost:8080/"
        },
        "id": "yCW2dTz12VMZ",
        "outputId": "457cc43b-3cfd-4303-a41e-95b9a3612f35"
      },
      "outputs": [
        {
          "name": "stdout",
          "output_type": "stream",
          "text": [
            "연속형 변수: ['전용면적', '계약년월', '계약일', '층', '건축년도', 'target']\n",
            "범주형 변수: ['시군구', '번지', '본번', '부번', '아파트명', '도로명', 'k-단지분류(아파트,주상복합등등)', 'k-전화번호', 'k-팩스번호', 'k-세대타입(분양형태)', 'k-관리방식', 'k-복도유형', 'k-난방방식', 'k-건설사(시공사)', 'k-시행사', 'k-사용검사일-사용승인일', 'k-수정일자', '고용보험관리번호', '경비비관리형태', '세대전기계약방법', '청소비관리형태', '기타/의무/임대/임의=1/2/3/4', '단지승인일', '사용허가여부', '관리비 업로드', '단지신청일']\n"
          ]
        }
      ],
      "source": [
        "# 파생변수 제작으로 추가된 변수들이 존재하기에, 다시한번 연속형과 범주형 칼럼을 분리해주겠습니다.\n",
        "# 레이블 인코딩은 트리모델에서는 크게 영향을 미치지 않음!\n",
        "continuous_columns_v2 = []\n",
        "categorical_columns_v2 = []\n",
        "\n",
        "for column in dt_train.columns:\n",
        "    if pd.api.types.is_numeric_dtype(dt_train[column]):\n",
        "        continuous_columns_v2.append(column)\n",
        "    else:\n",
        "        categorical_columns_v2.append(column)\n",
        "\n",
        "print(\"연속형 변수:\", continuous_columns_v2)\n",
        "print(\"범주형 변수:\", categorical_columns_v2)"
      ]
    },
    {
      "cell_type": "code",
      "execution_count": 40,
      "metadata": {
        "colab": {
          "base_uri": "https://localhost:8080/"
        },
        "id": "klnjrUceP_bC",
        "outputId": "62583cd9-598d-45d7-da14-4ffbad128308"
      },
      "outputs": [
        {
          "name": "stderr",
          "output_type": "stream",
          "text": [
            "100%|██████████| 26/26 [00:08<00:00,  3.12it/s]\n"
          ]
        }
      ],
      "source": [
        "# 아래에서 범주형 변수들을 대상으로 레이블인코딩을 진행해 주겠습니다.\n",
        "\n",
        "# 각 변수에 대한 LabelEncoder를 저장할 딕셔너리\n",
        "label_encoders = {}\n",
        "\n",
        "# Implement Label Encoding\n",
        "for col in tqdm( categorical_columns_v2 ):\n",
        "    lbl = LabelEncoder()\n",
        "\n",
        "    # Label-Encoding을 fit\n",
        "    lbl.fit( dt_train[col].astype(str) )\n",
        "    dt_train[col] = lbl.transform(dt_train[col].astype(str))\n",
        "    label_encoders[col] = lbl           # 나중에 후처리를 위해 레이블인코더를 저장해주겠습니다.\n",
        "\n",
        "    # Test 데이터에만 존재하는 새로 출현한 데이터를 신규 클래스로 추가해줍니다.\n",
        "    for label in np.unique(dt_test[col]):\n",
        "      if label not in lbl.classes_: # unseen label 데이터인 경우\n",
        "        lbl.classes_ = np.append(lbl.classes_, label) # 미처리 시 ValueError발생하니 주의하세요!\n",
        "\n",
        "    dt_test[col] = lbl.transform(dt_test[col].astype(str))"
      ]
    },
    {
      "cell_type": "code",
      "execution_count": 41,
      "metadata": {
        "colab": {
          "base_uri": "https://localhost:8080/",
          "height": 110
        },
        "id": "-mMaaemI6DCI",
        "outputId": "48323e21-a39e-4cf6-99dd-f77c24d6c785"
      },
      "outputs": [
        {
          "data": {
            "text/html": [
              "<div>\n",
              "<style scoped>\n",
              "    .dataframe tbody tr th:only-of-type {\n",
              "        vertical-align: middle;\n",
              "    }\n",
              "\n",
              "    .dataframe tbody tr th {\n",
              "        vertical-align: top;\n",
              "    }\n",
              "\n",
              "    .dataframe thead th {\n",
              "        text-align: right;\n",
              "    }\n",
              "</style>\n",
              "<table border=\"1\" class=\"dataframe\">\n",
              "  <thead>\n",
              "    <tr style=\"text-align: right;\">\n",
              "      <th></th>\n",
              "      <th>시군구</th>\n",
              "      <th>번지</th>\n",
              "      <th>본번</th>\n",
              "      <th>부번</th>\n",
              "      <th>아파트명</th>\n",
              "      <th>전용면적</th>\n",
              "      <th>계약년월</th>\n",
              "      <th>계약일</th>\n",
              "      <th>층</th>\n",
              "      <th>건축년도</th>\n",
              "      <th>...</th>\n",
              "      <th>고용보험관리번호</th>\n",
              "      <th>경비비관리형태</th>\n",
              "      <th>세대전기계약방법</th>\n",
              "      <th>청소비관리형태</th>\n",
              "      <th>기타/의무/임대/임의=1/2/3/4</th>\n",
              "      <th>단지승인일</th>\n",
              "      <th>사용허가여부</th>\n",
              "      <th>관리비 업로드</th>\n",
              "      <th>단지신청일</th>\n",
              "      <th>target</th>\n",
              "    </tr>\n",
              "  </thead>\n",
              "  <tbody>\n",
              "    <tr>\n",
              "      <th>0</th>\n",
              "      <td>0</td>\n",
              "      <td>4732</td>\n",
              "      <td>1149</td>\n",
              "      <td>1</td>\n",
              "      <td>328</td>\n",
              "      <td>79.97</td>\n",
              "      <td>201712</td>\n",
              "      <td>8</td>\n",
              "      <td>3</td>\n",
              "      <td>1987</td>\n",
              "      <td>...</td>\n",
              "      <td>526</td>\n",
              "      <td>4</td>\n",
              "      <td>1</td>\n",
              "      <td>4</td>\n",
              "      <td>4</td>\n",
              "      <td>725</td>\n",
              "      <td>1</td>\n",
              "      <td>0</td>\n",
              "      <td>249</td>\n",
              "      <td>124000.0</td>\n",
              "    </tr>\n",
              "  </tbody>\n",
              "</table>\n",
              "<p>1 rows × 32 columns</p>\n",
              "</div>"
            ],
            "text/plain": [
              "   시군구    번지    본번  부번  아파트명   전용면적    계약년월  계약일  층  건축년도  ...  고용보험관리번호  \\\n",
              "0    0  4732  1149   1   328  79.97  201712    8  3  1987  ...       526   \n",
              "\n",
              "   경비비관리형태  세대전기계약방법  청소비관리형태  기타/의무/임대/임의=1/2/3/4  단지승인일  사용허가여부  관리비 업로드  \\\n",
              "0        4         1        4                    4    725       1        0   \n",
              "\n",
              "   단지신청일    target  \n",
              "0    249  124000.0  \n",
              "\n",
              "[1 rows x 32 columns]"
            ]
          },
          "execution_count": 41,
          "metadata": {},
          "output_type": "execute_result"
        }
      ],
      "source": [
        "dt_train.head(1)        # 레이블인코딩이 된 모습입니다."
      ]
    },
    {
      "cell_type": "code",
      "execution_count": 42,
      "metadata": {},
      "outputs": [
        {
          "data": {
            "text/plain": [
              "시군구                    0\n",
              "번지                     0\n",
              "본번                     0\n",
              "부번                     0\n",
              "아파트명                   0\n",
              "전용면적                   0\n",
              "계약년월                   0\n",
              "계약일                    0\n",
              "층                      0\n",
              "건축년도                   0\n",
              "도로명                    0\n",
              "k-단지분류(아파트,주상복합등등)     0\n",
              "k-전화번호                 0\n",
              "k-팩스번호                 0\n",
              "k-세대타입(분양형태)           0\n",
              "k-관리방식                 0\n",
              "k-복도유형                 0\n",
              "k-난방방식                 0\n",
              "k-건설사(시공사)             0\n",
              "k-시행사                  0\n",
              "k-사용검사일-사용승인일          0\n",
              "k-수정일자                 0\n",
              "고용보험관리번호               0\n",
              "경비비관리형태                0\n",
              "세대전기계약방법               0\n",
              "청소비관리형태                0\n",
              "기타/의무/임대/임의=1/2/3/4    0\n",
              "단지승인일                  0\n",
              "사용허가여부                 0\n",
              "관리비 업로드                0\n",
              "단지신청일                  0\n",
              "target                 0\n",
              "dtype: int64"
            ]
          },
          "execution_count": 42,
          "metadata": {},
          "output_type": "execute_result"
        }
      ],
      "source": [
        "dt_train.isnull().sum()"
      ]
    },
    {
      "cell_type": "code",
      "execution_count": 43,
      "metadata": {},
      "outputs": [
        {
          "data": {
            "text/plain": [
              "시군구                       0\n",
              "번지                        0\n",
              "본번                        0\n",
              "부번                        0\n",
              "아파트명                      0\n",
              "전용면적                      0\n",
              "계약년월                      0\n",
              "계약일                       0\n",
              "층                         0\n",
              "건축년도                      0\n",
              "도로명                       0\n",
              "k-단지분류(아파트,주상복합등등)        0\n",
              "k-전화번호                    0\n",
              "k-팩스번호                    0\n",
              "k-세대타입(분양형태)              0\n",
              "k-관리방식                    0\n",
              "k-복도유형                    0\n",
              "k-난방방식                    0\n",
              "k-건설사(시공사)                0\n",
              "k-시행사                     0\n",
              "k-사용검사일-사용승인일             0\n",
              "k-수정일자                    0\n",
              "고용보험관리번호                  0\n",
              "경비비관리형태                   0\n",
              "세대전기계약방법                  0\n",
              "청소비관리형태                   0\n",
              "기타/의무/임대/임의=1/2/3/4       0\n",
              "단지승인일                     0\n",
              "사용허가여부                    0\n",
              "관리비 업로드                   0\n",
              "단지신청일                     0\n",
              "target                 9272\n",
              "dtype: int64"
            ]
          },
          "execution_count": 43,
          "metadata": {},
          "output_type": "execute_result"
        }
      ],
      "source": [
        "dt_test.isnull().sum()"
      ]
    },
    {
      "cell_type": "code",
      "execution_count": 44,
      "metadata": {
        "id": "7S-ow8vVP_YZ"
      },
      "outputs": [],
      "source": [
        "assert dt_train.shape[1] == dt_test.shape[1]          # train/test dataset의 shape이 같은지 확인해주겠습니다."
      ]
    },
    {
      "cell_type": "code",
      "execution_count": 45,
      "metadata": {},
      "outputs": [],
      "source": [
        "# Target과 독립변수들을 분리해줍니다.\n",
        "y_train = dt_train['target']\n",
        "X_train = dt_train.drop(['target'], axis=1)\n",
        "\n",
        "# Light GMB 특수문자 에러\n",
        "import re\n",
        "# 모든 특수 문자를 밑줄로 대체하기 위해 정규 표현식 사용\n",
        "def normalize_column_names(df):\n",
        "    df.columns = [re.sub(r'[^\\w]', '_', col) for col in df.columns]\n",
        "    return df\n",
        "\n",
        "X_train = normalize_column_names(X_train)\n",
        "\n",
        "\n",
        "# Hold out split을 사용해 학습 데이터와 검증 데이터를 8:2 비율로 나누겠습니다.\n",
        "X_train, X_val, y_train, y_val = train_test_split(X_train, y_train, test_size=0.2, random_state=2023)"
      ]
    },
    {
      "cell_type": "code",
      "execution_count": 46,
      "metadata": {
        "id": "vXP9IzrZaBMG"
      },
      "outputs": [
        {
          "name": "stdout",
          "output_type": "stream",
          "text": [
            "(537033, 31) (179012, 31) (179012, 31) (537033,) (179012,) (179012,)\n"
          ]
        }
      ],
      "source": [
        "from sklearn.model_selection import train_test_split\n",
        "\n",
        "X_train, X_test, y_train, y_test = train_test_split(X_train, y_train, test_size = 0.2, random_state=42)\n",
        "\n",
        "X_train, X_val, y_train, y_val = train_test_split(X_train, y_train, test_size = 0.25, random_state = 42)\n",
        "\n",
        "print(X_train.shape, X_val.shape, X_test.shape, y_train.shape, y_val.shape, y_test.shape)"
      ]
    },
    {
      "cell_type": "code",
      "execution_count": 47,
      "metadata": {},
      "outputs": [],
      "source": [
        "from sklearn.preprocessing import StandardScaler\n",
        "\n",
        "scaler = StandardScaler() #\n",
        "X_train = scaler.fit_transform(X_train)\n",
        "X_val = scaler.fit_transform(X_val)\n",
        "X_test = scaler.fit_transform(X_test)"
      ]
    },
    {
      "cell_type": "code",
      "execution_count": 48,
      "metadata": {},
      "outputs": [
        {
          "data": {
            "text/plain": [
              "array([[ 0.38725259,  0.59652073,  0.59020963, ..., -0.53585927,\n",
              "         0.51299657,  0.52648552],\n",
              "       [ 0.9700795 , -1.29919393, -1.40197197, ...,  1.86616161,\n",
              "        -1.86654414, -1.91519825],\n",
              "       [-1.01838879, -1.24063692, -1.28536856, ..., -0.53585927,\n",
              "         0.51299657,  0.52648552],\n",
              "       ...,\n",
              "       [-0.52698571, -0.5171569 , -0.32773208, ..., -0.53585927,\n",
              "         0.51299657,  0.52648552],\n",
              "       [ 0.20440493, -0.93252856, -0.74204631, ..., -0.53585927,\n",
              "         0.51299657,  0.52648552],\n",
              "       [ 0.19297695, -1.25267668, -1.31265872, ..., -0.53585927,\n",
              "         0.51299657,  0.52648552]])"
            ]
          },
          "execution_count": 48,
          "metadata": {},
          "output_type": "execute_result"
        }
      ],
      "source": [
        "X_train"
      ]
    },
    {
      "attachments": {},
      "cell_type": "markdown",
      "metadata": {},
      "source": [
        "# catboost model (Auto ML)"
      ]
    },
    {
      "cell_type": "code",
      "execution_count": 49,
      "metadata": {},
      "outputs": [
        {
          "name": "stdout",
          "output_type": "stream",
          "text": [
            "Fitting 3 folds for each of 20 candidates, totalling 60 fits\n",
            "Best parameters: {'learning_rate': 0.1, 'l2_leaf_reg': 3, 'iterations': 1500, 'depth': 8}\n",
            "Validation RMSE with best parameters: 8037.796578124483\n"
          ]
        }
      ],
      "source": [
        "from catboost import CatBoostRegressor\n",
        "from sklearn.model_selection import RandomizedSearchCV\n",
        "from sklearn.metrics import make_scorer, mean_squared_error\n",
        "import numpy as np\n",
        "\n",
        "# RMSE 스코어러 정의\n",
        "def rmse(y_true, y_pred):\n",
        "    return np.sqrt(mean_squared_error(y_true, y_pred))\n",
        "\n",
        "rmse_scorer = make_scorer(rmse, greater_is_better=False)\n",
        "\n",
        "# CatBoostRegressor 파라미터 그리드 정의\n",
        "param_distributions = {\n",
        "    'depth': [4, 6, 8, 10],\n",
        "    'learning_rate': [0.01, 0.03, 0.1],\n",
        "    'iterations': [500, 1000, 1500],\n",
        "    'l2_leaf_reg': [1, 3, 5, 7, 9]\n",
        "}\n",
        "\n",
        "# CatBoostRegressor 모델 초기화\n",
        "reg_catboost = CatBoostRegressor(verbose=0)\n",
        "\n",
        "# RandomizedSearchCV 초기화\n",
        "random_search = RandomizedSearchCV(reg_catboost, param_distributions, n_iter=20, cv=3, verbose=1, scoring=rmse_scorer, random_state=42)\n",
        "\n",
        "# RandomizedSearchCV를 사용하여 모델 학습\n",
        "random_search.fit(X_train, y_train)\n",
        "\n",
        "# 최적 파라미터 출력\n",
        "print(\"Best parameters:\", random_search.best_params_)\n",
        "\n",
        "# 최적 파라미터로 학습된 모델\n",
        "best_model = random_search.best_estimator_\n",
        "\n",
        "# 검증 데이터셋에 대한 예측 및 RMSE 계산\n",
        "predictions = best_model.predict(X_val)\n",
        "rmse_val = rmse(y_val, predictions)\n",
        "print(\"Validation RMSE with best parameters:\", rmse_val)\n"
      ]
    },
    {
      "attachments": {},
      "cell_type": "markdown",
      "metadata": {},
      "source": [
        "## 비교\n",
        "\n",
        "### (early stop)\n",
        "\n",
        "iterations 최대 2,000\n",
        "Validation RMSE: 8907.660707275254\n",
        "\n",
        "Best Iteration:  1999\n",
        "\n",
        "----------------------------------------\n",
        "### (Auto Ml)\n",
        "\n",
        "Fitting 3 folds for each of 20 candidates, totalling 60 fits\n",
        "\n",
        "Best parameters: {'learning_rate': 0.1, 'l2_leaf_reg': 3, 'iterations': 1500, 'depth': 8}\n",
        "\n",
        "Validation RMSE with best parameters: 8037.796578124483"
      ]
    },
    {
      "attachments": {},
      "cell_type": "markdown",
      "metadata": {},
      "source": [
        "## 최적의 파라미터로 모델 재학습!"
      ]
    },
    {
      "cell_type": "code",
      "execution_count": 51,
      "metadata": {},
      "outputs": [],
      "source": [
        "# X_train과 X_val을 합쳐서 전체 훈련 데이터셋을 생성합니다.\n",
        "X_full_train = np.concatenate((X_train, X_val))\n",
        "y_full_train = np.concatenate((y_train, y_val))\n",
        "\n",
        "# RandomizedSearchCV에서 찾은 최적의 파라미터를 사용하여 모델 초기화\n",
        "optimal_params = random_search.best_params_\n",
        "optimal_model = CatBoostRegressor(**optimal_params, verbose=0)"
      ]
    },
    {
      "cell_type": "code",
      "execution_count": 52,
      "metadata": {},
      "outputs": [
        {
          "data": {
            "text/plain": [
              "<catboost.core.CatBoostRegressor at 0x2ac9be368c8>"
            ]
          },
          "execution_count": 52,
          "metadata": {},
          "output_type": "execute_result"
        }
      ],
      "source": [
        "# 전체 훈련 데이터셋으로 모델을 학습\n",
        "optimal_model.fit(X_full_train, y_full_train)"
      ]
    },
    {
      "cell_type": "code",
      "execution_count": 53,
      "metadata": {},
      "outputs": [],
      "source": [
        "# dt_test 데이터에서 독립변수들만 추출 (여기서는 'target' 컬럼이 없다고 가정합니다)\n",
        "X_test = dt_test.copy()\n",
        "\n",
        "# 특수 문자가 포함된 컬럼명을 '_'로 변경 (모델 학습 시와 동일하게 처리)\n",
        "X_test.columns = [re.sub(r'[^\\w]', '_', col) for col in X_test.columns]\n"
      ]
    },
    {
      "cell_type": "code",
      "execution_count": 54,
      "metadata": {},
      "outputs": [],
      "source": [
        "# X_test에서 'target' 컬럼 제거\n",
        "X_test = X_test.drop(columns=['target'])\n",
        "\n",
        "# 이제 X_test의 피처 수가 X_train과 일치하므로 스케일링을 진행할 수 있습니다.\n",
        "X_test_scaled = scaler.transform(X_test)\n"
      ]
    },
    {
      "cell_type": "code",
      "execution_count": 55,
      "metadata": {},
      "outputs": [
        {
          "name": "stdout",
          "output_type": "stream",
          "text": [
            "   target\n",
            "0  179048\n",
            "1   84820\n",
            "2  248141\n",
            "3  180991\n",
            "4  295430\n"
          ]
        }
      ],
      "source": [
        "# sample.submission.csv 파일 로드\n",
        "sample_submission = pd.read_csv('./sample_submission.csv')\n",
        "\n",
        "# 파일 형식 확인\n",
        "print(sample_submission.head())\n"
      ]
    },
    {
      "cell_type": "code",
      "execution_count": 56,
      "metadata": {},
      "outputs": [
        {
          "name": "stdout",
          "output_type": "stream",
          "text": [
            "Saved ./catboost_automl_submission_0322.csv\n"
          ]
        }
      ],
      "source": [
        "# CatBoost 모델을 사용하여 테스트 데이터셋에 대한 예측 수행\n",
        "predictions = optimal_model.predict(X_test_scaled)\n",
        "\n",
        "# 예측 결과를 sample_submission DataFrame에 할당\n",
        "sample_submission['target'] = predictions\n",
        "\n",
        "# 결과를 정수형으로 변환할 필요가 있다면 다음 라인을 사용 (회귀 문제인 경우 필요 없을 수 있음)\n",
        "sample_submission['target'] = sample_submission['target'].astype(int)\n",
        "\n",
        "# 결과를 CSV 파일로 저장\n",
        "submission_file_path = './catboost_automl_submission_0322.csv'\n",
        "sample_submission.to_csv(submission_file_path, index=False)\n",
        "print(f'Saved {submission_file_path}')\n"
      ]
    }
  ],
  "metadata": {
    "colab": {
      "provenance": []
    },
    "kernelspec": {
      "display_name": "Python 3",
      "name": "python3"
    },
    "language_info": {
      "codemirror_mode": {
        "name": "ipython",
        "version": 3
      },
      "file_extension": ".py",
      "mimetype": "text/x-python",
      "name": "python",
      "nbconvert_exporter": "python",
      "pygments_lexer": "ipython3",
      "version": "3.7.9"
    }
  },
  "nbformat": 4,
  "nbformat_minor": 0
}
